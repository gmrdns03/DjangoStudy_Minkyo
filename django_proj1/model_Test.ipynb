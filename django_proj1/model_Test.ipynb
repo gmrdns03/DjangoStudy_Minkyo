{
 "cells": [
  {
   "cell_type": "code",
   "execution_count": null,
   "source": [
    "# 다른 경로에서 주피터를 실행했다면\r\n",
    "# import sys\r\n",
    "# sys.path.insert(0, \"프로젝트 경로를 절대 경로로 지정\")"
   ],
   "outputs": [],
   "metadata": {}
  },
  {
   "cell_type": "code",
   "execution_count": 1,
   "source": [
    "import os\r\n",
    "os.environ[\"DJANGO_ALLOW_ASYNC_UNSAFE\"] =\"true\"\r\n",
    "os.environ[\"DJANGO_SETTINGS_MODULE\"] = \"django_proj1.settings\"  # settings가 있는 폴더명을 포함해서 지정\r\n",
    "\r\n",
    "import django\r\n",
    "django.setup()"
   ],
   "outputs": [],
   "metadata": {}
  },
  {
   "cell_type": "code",
   "execution_count": 2,
   "source": [
    "from shop.models import Item"
   ],
   "outputs": [],
   "metadata": {}
  },
  {
   "cell_type": "code",
   "execution_count": 3,
   "source": [
    "qs = Item.objects.all()  # where조건 없이 select 수행\r\n",
    "for item in qs:\r\n",
    "    print(item, item.is_public)"
   ],
   "outputs": [
    {
     "output_type": "stream",
     "name": "stdout",
     "text": [
      "다정한 것이 살아남는다(양장본 HardCover) False\n",
      "빛이 사라지기 전에(양장본 HardCover) False\n",
      "올 댓 코스메틱(양장본 HardCover) False\n",
      "파이썬 기반 강화학습 알고리듬(데이터 과학) False\n",
      "진의 모든 것 False\n",
      "펑 False\n",
      "이토록 매혹적인 아랍이라니 False\n",
      "두메별, 꽃과 별의 이름을 가진 아이(자음과모음 청소 False\n",
      "샬롯에게는 다섯 명의 제자가 있다. 1(특별판) False\n",
      "기발하고 괴상하고 웃긴 과학 사전!. 1: 동물 False\n",
      "햇빛은 찬란하고 인생은 귀하니까요: 밀라논나 이야 False\n"
     ]
    }
   ],
   "metadata": {}
  },
  {
   "cell_type": "code",
   "execution_count": 5,
   "source": [
    "from shop.models import Review\r\n",
    "qs = Review.objects.all()\r\n",
    "\r\n",
    "for review in qs:\r\n",
    "    print(review, review.message, review.item)"
   ],
   "outputs": [
    {
     "output_type": "stream",
     "name": "stdout",
     "text": [
      "Review object (1) 젬;ㅆㅇ 다정한 것이 살아남는다(양장본 HardCover)\n",
      "Review object (2) 별로 그런 생각 안해 이토록 매혹적인 아랍이라니\n"
     ]
    }
   ],
   "metadata": {}
  },
  {
   "cell_type": "code",
   "execution_count": 6,
   "source": [
    "# 아이템 1의 리뷰 목록을 얻는 방법\r\n",
    "qs = Review.objects.filter(item__pk=1)\r\n",
    "\r\n",
    "for review in qs:\r\n",
    "    print(review, review.item)"
   ],
   "outputs": [
    {
     "output_type": "stream",
     "name": "stdout",
     "text": [
      "Review object (1) 다정한 것이 살아남는다(양장본 HardCover)\n"
     ]
    }
   ],
   "metadata": {}
  },
  {
   "cell_type": "code",
   "execution_count": 7,
   "source": [
    "# 아이템 1의 리뷰 목록을 얻는 방법 2번째\r\n",
    "item = Item.objects.get(pk=1)\r\n",
    "\r\n",
    "qs = Review.objects.filter(item=item)\r\n",
    "\r\n",
    "for review in qs:\r\n",
    "    print(review, review.item)\r\n",
    "\r\n",
    "\r\n"
   ],
   "outputs": [
    {
     "output_type": "stream",
     "name": "stdout",
     "text": [
      "Review object (1) 다정한 것이 살아남는다(양장본 HardCover)\n"
     ]
    }
   ],
   "metadata": {}
  },
  {
   "cell_type": "code",
   "execution_count": 8,
   "source": [
    "# 아이템 1의 리뷰 목록을 얻는 방법 3번째 --> 중요\r\n",
    "item = Item.objects.get(pk=1)\r\n",
    "\r\n",
    "qs = item.review_set.all()\r\n",
    "\r\n",
    "for review in qs:\r\n",
    "    print(review, review.item)"
   ],
   "outputs": [
    {
     "output_type": "stream",
     "name": "stdout",
     "text": [
      "Review object (1) 다정한 것이 살아남는다(양장본 HardCover)\n"
     ]
    }
   ],
   "metadata": {}
  },
  {
   "cell_type": "code",
   "execution_count": null,
   "source": [],
   "outputs": [],
   "metadata": {}
  },
  {
   "cell_type": "code",
   "execution_count": null,
   "source": [],
   "outputs": [],
   "metadata": {}
  }
 ],
 "metadata": {
  "orig_nbformat": 4,
  "language_info": {
   "name": "python",
   "version": "3.9.6",
   "mimetype": "text/x-python",
   "codemirror_mode": {
    "name": "ipython",
    "version": 3
   },
   "pygments_lexer": "ipython3",
   "nbconvert_exporter": "python",
   "file_extension": ".py"
  },
  "kernelspec": {
   "name": "python3",
   "display_name": "Python 3.9.6 64-bit ('django_py38': conda)"
  },
  "interpreter": {
   "hash": "724e55a971b151b2ab27945521557a4fa3968ffc7ef08994b96f1e88931a0bee"
  }
 },
 "nbformat": 4,
 "nbformat_minor": 2
}